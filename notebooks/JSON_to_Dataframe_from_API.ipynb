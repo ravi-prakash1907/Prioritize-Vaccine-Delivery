{
  "nbformat": 4,
  "nbformat_minor": 0,
  "metadata": {
    "colab": {
      "name": "JSON to Dataframe from API.ipynb",
      "provenance": [],
      "authorship_tag": "ABX9TyO+QLoNiEn7o1QMDva1wPe+",
      "include_colab_link": true
    },
    "kernelspec": {
      "name": "python3",
      "display_name": "Python 3"
    }
  },
  "cells": [
    {
      "cell_type": "markdown",
      "metadata": {
        "id": "view-in-github",
        "colab_type": "text"
      },
      "source": [
        "<a href=\"https://colab.research.google.com/github/ravi-prakash1907/Prioritize-vaccine-delivery-using-AI-ML/blob/main/JSON_to_Dataframe_from_API.ipynb\" target=\"_parent\"><img src=\"https://colab.research.google.com/assets/colab-badge.svg\" alt=\"Open In Colab\"/></a>"
      ]
    },
    {
      "cell_type": "markdown",
      "metadata": {
        "id": "kU8_raE_BxTJ"
      },
      "source": [
        "# **Dataframe from the Public API**"
      ]
    },
    {
      "cell_type": "markdown",
      "metadata": {
        "id": "adG0iKBsCG_4"
      },
      "source": [
        "### Library"
      ]
    },
    {
      "cell_type": "code",
      "metadata": {
        "id": "NcT4V4JQBvgL"
      },
      "source": [
        "import json\n",
        "import pandas as pd\n",
        "from urllib.request import urlopen"
      ],
      "execution_count": 8,
      "outputs": []
    },
    {
      "cell_type": "markdown",
      "metadata": {
        "id": "O-_hSW05DsT1"
      },
      "source": [
        "**get JSON data**"
      ]
    },
    {
      "cell_type": "code",
      "metadata": {
        "id": "wgEiU7s7B07H"
      },
      "source": [
        "def getJson(urlLoc):\n",
        "  with urlopen(urlLoc) as rsp:\n",
        "    gotRaw = rsp.read()\n",
        "\n",
        "  data = json.loads(gotRaw)\n",
        "  return data\n"
      ],
      "execution_count": 9,
      "outputs": []
    },
    {
      "cell_type": "code",
      "metadata": {
        "colab": {
          "base_uri": "https://localhost:8080/"
        },
        "id": "Sldn8rjcB7kD",
        "outputId": "6dfd83b3-c155-4c89-aaaf-da71e7ea7915"
      },
      "source": [
        "#location = \"https://api.covid19india.org/misc.json\"\n",
        "\n",
        "# get location\n",
        "location = input(\"Enter the location (URL): \")\n",
        "\n",
        "data = getJson(location)\n",
        "data.keys()"
      ],
      "execution_count": 10,
      "outputs": [
        {
          "output_type": "stream",
          "text": [
            "Enter the location (URL): https://api.covid19india.org/misc.json\n"
          ],
          "name": "stdout"
        },
        {
          "output_type": "execute_result",
          "data": {
            "text/plain": [
              "dict_keys(['district_meta_data', 'state_meta_data'])"
            ]
          },
          "metadata": {
            "tags": []
          },
          "execution_count": 10
        }
      ]
    },
    {
      "cell_type": "markdown",
      "metadata": {
        "id": "P_FlzjYRCBN7"
      },
      "source": [
        "---"
      ]
    },
    {
      "cell_type": "markdown",
      "metadata": {
        "id": "NK_fGgAlDyyQ"
      },
      "source": [
        "** creating dataframes"
      ]
    },
    {
      "cell_type": "code",
      "metadata": {
        "colab": {
          "base_uri": "https://localhost:8080/",
          "height": 255
        },
        "id": "fyVMbUq_B6-m",
        "outputId": "fdf805ab-4b91-43f3-cee1-eded05b9464a"
      },
      "source": [
        "df_district_meta_data = pd.DataFrame(data['district_meta_data'])\n",
        "df_district_meta_data.head()"
      ],
      "execution_count": 11,
      "outputs": [
        {
          "output_type": "execute_result",
          "data": {
            "text/html": [
              "<div>\n",
              "<style scoped>\n",
              "    .dataframe tbody tr th:only-of-type {\n",
              "        vertical-align: middle;\n",
              "    }\n",
              "\n",
              "    .dataframe tbody tr th {\n",
              "        vertical-align: top;\n",
              "    }\n",
              "\n",
              "    .dataframe thead th {\n",
              "        text-align: right;\n",
              "    }\n",
              "</style>\n",
              "<table border=\"1\" class=\"dataframe\">\n",
              "  <thead>\n",
              "    <tr style=\"text-align: right;\">\n",
              "      <th></th>\n",
              "      <th>district</th>\n",
              "      <th>districtkey</th>\n",
              "      <th>population</th>\n",
              "      <th>slno</th>\n",
              "      <th>state</th>\n",
              "      <th>statecode</th>\n",
              "    </tr>\n",
              "  </thead>\n",
              "  <tbody>\n",
              "    <tr>\n",
              "      <th>0</th>\n",
              "      <td>Nicobars</td>\n",
              "      <td>AN_Nicobars</td>\n",
              "      <td>36842</td>\n",
              "      <td>1</td>\n",
              "      <td>Andaman and Nicobar Islands</td>\n",
              "      <td>AN</td>\n",
              "    </tr>\n",
              "    <tr>\n",
              "      <th>1</th>\n",
              "      <td>North and Middle Andaman</td>\n",
              "      <td>AN_North and Middle Andaman</td>\n",
              "      <td>105597</td>\n",
              "      <td>2</td>\n",
              "      <td>Andaman and Nicobar Islands</td>\n",
              "      <td>AN</td>\n",
              "    </tr>\n",
              "    <tr>\n",
              "      <th>2</th>\n",
              "      <td>South Andaman</td>\n",
              "      <td>AN_South Andaman</td>\n",
              "      <td>238142</td>\n",
              "      <td>3</td>\n",
              "      <td>Andaman and Nicobar Islands</td>\n",
              "      <td>AN</td>\n",
              "    </tr>\n",
              "    <tr>\n",
              "      <th>3</th>\n",
              "      <td>Anantapur</td>\n",
              "      <td>AP_Anantapur</td>\n",
              "      <td>4083315</td>\n",
              "      <td>4</td>\n",
              "      <td>Andhra Pradesh</td>\n",
              "      <td>AP</td>\n",
              "    </tr>\n",
              "    <tr>\n",
              "      <th>4</th>\n",
              "      <td>Chittoor</td>\n",
              "      <td>AP_Chittoor</td>\n",
              "      <td>4170468</td>\n",
              "      <td>5</td>\n",
              "      <td>Andhra Pradesh</td>\n",
              "      <td>AP</td>\n",
              "    </tr>\n",
              "  </tbody>\n",
              "</table>\n",
              "</div>"
            ],
            "text/plain": [
              "                   district  ... statecode\n",
              "0                  Nicobars  ...        AN\n",
              "1  North and Middle Andaman  ...        AN\n",
              "2             South Andaman  ...        AN\n",
              "3                 Anantapur  ...        AP\n",
              "4                  Chittoor  ...        AP\n",
              "\n",
              "[5 rows x 6 columns]"
            ]
          },
          "metadata": {
            "tags": []
          },
          "execution_count": 11
        }
      ]
    },
    {
      "cell_type": "code",
      "metadata": {
        "colab": {
          "base_uri": "https://localhost:8080/",
          "height": 204
        },
        "id": "PGDwQD-ZB99Z",
        "outputId": "2f5c5dbe-1352-41b4-ef6b-5f30721961b1"
      },
      "source": [
        "df_state_meta_data = pd.DataFrame(data['state_meta_data'])\n",
        "df_state_meta_data.head()"
      ],
      "execution_count": 12,
      "outputs": [
        {
          "output_type": "execute_result",
          "data": {
            "text/html": [
              "<div>\n",
              "<style scoped>\n",
              "    .dataframe tbody tr th:only-of-type {\n",
              "        vertical-align: middle;\n",
              "    }\n",
              "\n",
              "    .dataframe tbody tr th {\n",
              "        vertical-align: top;\n",
              "    }\n",
              "\n",
              "    .dataframe thead th {\n",
              "        text-align: right;\n",
              "    }\n",
              "</style>\n",
              "<table border=\"1\" class=\"dataframe\">\n",
              "  <thead>\n",
              "    <tr style=\"text-align: right;\">\n",
              "      <th></th>\n",
              "      <th>abbreviation</th>\n",
              "      <th>no</th>\n",
              "      <th>population</th>\n",
              "      <th>stateut</th>\n",
              "    </tr>\n",
              "  </thead>\n",
              "  <tbody>\n",
              "    <tr>\n",
              "      <th>0</th>\n",
              "      <td>AN</td>\n",
              "      <td>29</td>\n",
              "      <td>397000</td>\n",
              "      <td>Andaman and Nicobar Islands</td>\n",
              "    </tr>\n",
              "    <tr>\n",
              "      <th>1</th>\n",
              "      <td>AP</td>\n",
              "      <td>1</td>\n",
              "      <td>52221000</td>\n",
              "      <td>Andhra Pradesh</td>\n",
              "    </tr>\n",
              "    <tr>\n",
              "      <th>2</th>\n",
              "      <td>AR</td>\n",
              "      <td>2</td>\n",
              "      <td>1504000</td>\n",
              "      <td>Arunachal Pradesh</td>\n",
              "    </tr>\n",
              "    <tr>\n",
              "      <th>3</th>\n",
              "      <td>AS</td>\n",
              "      <td>3</td>\n",
              "      <td>34293000</td>\n",
              "      <td>Assam</td>\n",
              "    </tr>\n",
              "    <tr>\n",
              "      <th>4</th>\n",
              "      <td>BR</td>\n",
              "      <td>4</td>\n",
              "      <td>119520000</td>\n",
              "      <td>Bihar</td>\n",
              "    </tr>\n",
              "  </tbody>\n",
              "</table>\n",
              "</div>"
            ],
            "text/plain": [
              "  abbreviation  no population                      stateut\n",
              "0           AN  29     397000  Andaman and Nicobar Islands\n",
              "1           AP   1   52221000               Andhra Pradesh\n",
              "2           AR   2    1504000            Arunachal Pradesh\n",
              "3           AS   3   34293000                        Assam\n",
              "4           BR   4  119520000                        Bihar"
            ]
          },
          "metadata": {
            "tags": []
          },
          "execution_count": 12
        }
      ]
    }
  ]
}